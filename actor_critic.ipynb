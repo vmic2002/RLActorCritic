{
 "cells": [
  {
   "cell_type": "markdown",
   "id": "b32e165c-7afb-4a7f-af5c-aede435b8de8",
   "metadata": {},
   "source": [
    "# Actor Critic Project\n",
    "Victor Micha, Fares Boudelaa"
   ]
  },
  {
   "cell_type": "markdown",
   "id": "f4947207-c55e-4cea-8fe6-8dd7cade92b6",
   "metadata": {},
   "source": [
    "##############\n",
    "NOTES, TO BE REMOVED\n",
    "we are doing online actor critic, meaning that the actor-critic is updated at each step, not at each end of episode\n",
    "\n",
    "\n",
    "\n",
    "FOR REPORT\n",
    "- mention we can compare shared NN vs 2 NN for actor critic \n",
    "- mention we could do continuous action spaces too\n",
    "- could compare with eligibility tracees and without\n",
    "- Asyncronous Advantage Actor Critic (A3C) (LOOK AT SLIDES)\n",
    "    A3C: multiple independent agents (own parameters) interacting with a    different copy\n",
    "    of the environment in parallel; asynchronously.\n",
    "    After n steps, update, then reset parameters to those of the global network.\n",
    "##############"
   ]
  },
  {
   "cell_type": "markdown",
   "id": "c7c29ccc-7e4e-4f6d-99d1-14682b24f6dd",
   "metadata": {
    "jp-MarkdownHeadingCollapsed": true
   },
   "source": [
    "## Setup"
   ]
  },
  {
   "cell_type": "code",
   "execution_count": 1,
   "id": "d872a84f-6051-44f3-9669-c709c65d960c",
   "metadata": {},
   "outputs": [],
   "source": [
    "import gymnasium as gym\n",
    "import numpy as np\n",
    "import matplotlib.pyplot as plt\n",
    "from tqdm import tqdm\n",
    "from typing import cast\n",
    "#import pandas as pd\n",
    "#import random\n",
    "import torch\n",
    "import torch.nn as nn\n",
    "import torch.nn.functional as F\n",
    "import torch.optim as optim"
   ]
  },
  {
   "cell_type": "code",
   "execution_count": 2,
   "id": "63b4424b-5ed8-43df-950c-2a3216f237f2",
   "metadata": {},
   "outputs": [
    {
     "name": "stdout",
     "output_type": "stream",
     "text": [
      "mps\n"
     ]
    }
   ],
   "source": [
    "device = torch.device(\"cuda\" if torch.cuda.is_available() else \"cpu\")\n",
    "if torch.backends.mps.is_available():\n",
    "    device = torch.device(\"mps\")\n",
    "print(device)"
   ]
  },
  {
   "cell_type": "code",
   "execution_count": 3,
   "id": "dbb7ae5d-ad77-475a-85db-010205d0915f",
   "metadata": {},
   "outputs": [],
   "source": [
    "########## TO BE ABLE TO RUN AND VISUALIZE EPISODE GIVEN AN AGENT #############\n",
    "\n",
    "from IPython.display import Video\n",
    "import gymnasium as gym\n",
    "from gymnasium.wrappers import RecordVideo\n",
    "from pathlib import Path\n",
    "\n",
    "\n",
    "def run_and_display_episode(agent, env_name=\"CartPole-v1\", video_title=\"vid-name\"):\n",
    "    \"\"\"\n",
    "    Run an episode with the given agent and display it as a video.\n",
    "    \n",
    "    Args:\n",
    "        agent: Trained ActorCriticNetwork instance\n",
    "        env_name: Gymnasium environment name (default: \"CartPole-v1\")\n",
    "        video_title: Prefix for the video file name (default: \"vid-name\")\n",
    "        max_steps: Maximum steps to run the episode (default: 500)\n",
    "    \"\"\"\n",
    "    # Set up video directory\n",
    "    VIDS_DIR = Path(\"./videos\")\n",
    "    VIDS_DIR.mkdir(parents=True, exist_ok=True)  # Simplified directory creation\n",
    "\n",
    "    # Define video path\n",
    "    video_filename = f\"{video_title}-episode-0.mp4\"\n",
    "    video_path = VIDS_DIR / video_filename\n",
    "    video_path.unlink(missing_ok=True)  # Clean up any existing file\n",
    "\n",
    "    # Create and wrap environment\n",
    "    env = gym.make(env_name, render_mode=\"rgb_array\")\n",
    "    env = RecordVideo(\n",
    "        env,\n",
    "        video_folder=str(VIDS_DIR),\n",
    "        name_prefix=video_title,\n",
    "        episode_trigger=lambda x: x == 0  # Record only first episode\n",
    "    )\n",
    "\n",
    "    # Run episode\n",
    "    state, info = env.reset()\n",
    "    done = False\n",
    "    step = 0\n",
    "    while not done:\n",
    "        action, _, _ = agent.policy(state)  # Unpack tuple explicitly\n",
    "        state, reward, terminated, truncated, info = env.step(action)\n",
    "        done = terminated or truncated\n",
    "        step += 1\n",
    "    \n",
    "    # Finalize and display\n",
    "    env.close()\n",
    "    print(f\"Episode ran for {step} steps\")  # Confirm length\n",
    "    display(Video(\n",
    "        str(video_path),\n",
    "        embed=True,\n",
    "        html_attributes=\"controls autoplay loop\"\n",
    "    ))"
   ]
  },
  {
   "cell_type": "markdown",
   "id": "d9693707-2422-4cbe-9256-9e0a96a5fac7",
   "metadata": {},
   "source": [
    "## Continuous State Space + Discrete Action Space"
   ]
  },
  {
   "cell_type": "code",
   "execution_count": 4,
   "id": "9054e7f3-a655-4a81-9bc3-9562b195f4a7",
   "metadata": {},
   "outputs": [],
   "source": [
    "gymnasium_environments = [\n",
    "    \"CartPole-v1\",\n",
    "    \"MountainCar-v0\",\n",
    "    \"Acrobot-v1\"\n",
    "]"
   ]
  },
  {
   "cell_type": "code",
   "execution_count": 5,
   "id": "9d2af86e-225a-4bb9-ab13-567e60382d17",
   "metadata": {},
   "outputs": [],
   "source": [
    "# CHOOSE ENV TO PLAY WITH\n",
    "env_name = gymnasium_environments[0]"
   ]
  },
  {
   "cell_type": "code",
   "execution_count": 6,
   "id": "20e7e801-3d3a-4540-b0dc-d288d2f347f9",
   "metadata": {},
   "outputs": [
    {
     "name": "stdout",
     "output_type": "stream",
     "text": [
      "\n",
      "Environment: CartPole-v1\n",
      "Observation Space:\n",
      "  Type: <class 'gymnasium.spaces.box.Box'>\n",
      "  Dimensions: 4\n",
      "  Low: [-4.8               -inf -0.41887903        -inf]\n",
      "  High: [4.8               inf 0.41887903        inf]\n",
      "Action Space:\n",
      "  Type: <class 'gymnasium.spaces.discrete.Discrete'>\n",
      "  Number of actions: 2\n"
     ]
    }
   ],
   "source": [
    "env = gym.make(env_name, render_mode=\"rgb_array\")\n",
    "    \n",
    "# Get observation and action spaces\n",
    "observation_space = env.observation_space\n",
    "action_space = env.action_space\n",
    "\n",
    "# assert observation space is continuous (Box)\n",
    "assert isinstance(observation_space, gym.spaces.Box), f\"{env_name} observation space is not continuous (Box).\"\n",
    "    \n",
    "# assert action space is discrete (Discrete)\n",
    "assert isinstance(action_space, gym.spaces.Discrete), f\"{env_name} action space is not discrete (Discrete).\"\n",
    "\n",
    "# to be used later\n",
    "observation_dim = observation_space.shape[0]  # Number of *dimensions* in the observation space (i.e. number of *elements* in the observation vector)\n",
    "num_actions = action_space.n.item()\n",
    "\n",
    "print(f\"\\nEnvironment: {env_name}\")\n",
    "print(\"Observation Space:\")\n",
    "print(f\"  Type: {type(observation_space)}\")\n",
    "print(f\"  Dimensions: {observation_dim}\")  # Number of dimensions\n",
    "print(f\"  Low: {observation_space.low}\")\n",
    "print(f\"  High: {observation_space.high}\")\n",
    "    \n",
    "\n",
    "print(\"Action Space:\")\n",
    "print(f\"  Type: {type(action_space)}\")\n",
    "print(f\"  Number of actions: {num_actions}\")  # Number of discrete actions\n",
    "\n",
    "\n",
    "env.close()"
   ]
  },
  {
   "cell_type": "markdown",
   "id": "c8ff9167-3d17-4008-8e8c-b02764a6c828",
   "metadata": {},
   "source": [
    "### Actor-Critic Model with Eligibility Traces"
   ]
  },
  {
   "cell_type": "markdown",
   "id": "a4cab553-8f50-4f1a-acfd-50ce5c5662e5",
   "metadata": {},
   "source": [
    "#### 1 NN: Shared backbone for actor and critic + two heads (one for the actor, one for the critic)"
   ]
  },
  {
   "cell_type": "code",
   "execution_count": 7,
   "id": "46e2368d-7eb2-42f7-8517-3d32386f9086",
   "metadata": {},
   "outputs": [
    {
     "name": "stdout",
     "output_type": "stream",
     "text": [
      "Action probabilities: tensor([[0.4936, 0.5064]], device='mps:0', grad_fn=<SoftmaxBackward0>)\n",
      "Value estimate: tensor([[0.0283]], device='mps:0', grad_fn=<LinearBackward0>)\n",
      "Sampled action: 0, Log prob: tensor([-0.7061], device='mps:0', grad_fn=<SqueezeBackward1>), entropy: tensor([0.6931], device='mps:0', grad_fn=<NegBackward0>)\n"
     ]
    }
   ],
   "source": [
    "class ActorCriticNetwork(nn.Module):\n",
    "    \"\"\"\n",
    "    For Continuous State Space + Discrete Action Space\n",
    "    \"\"\"\n",
    "    def __init__(\n",
    "        self,\n",
    "        observation_dim,      # Dimension of the input state (e.g., 4 for CartPole)\n",
    "        num_actions,          # Number of discrete actions (e.g., 2 for CartPole)\n",
    "        shared_hidden_size=128,  # Hidden size for shared backbone layers\n",
    "        actor_hidden_size=64,    # Hidden size for actor head layers\n",
    "        critic_hidden_size=64    # Hidden size for critic head layers\n",
    "    ):\n",
    "        super(ActorCriticNetwork, self).__init__()\n",
    "        \n",
    "        assert observation_dim > 0, \"Observation dimension must be positive\"\n",
    "        assert num_actions > 0, \"Number of actions must be positive\"\n",
    "\n",
    "        # Shared backbone: Fixed 2-layer Sequential\n",
    "        self.shared_backbone = nn.Sequential(\n",
    "            nn.Linear(observation_dim, shared_hidden_size),\n",
    "            nn.ReLU(),\n",
    "            nn.Linear(shared_hidden_size, shared_hidden_size),\n",
    "            nn.ReLU()\n",
    "        )\n",
    "        \n",
    "        # Actor head: 2-layer MLP (shared_hidden_size -> actor_hidden_size -> num_actions)\n",
    "        self.actor_layer1 = nn.Linear(shared_hidden_size, actor_hidden_size)\n",
    "        self.actor_layer2 = nn.Linear(actor_hidden_size, num_actions)\n",
    "        \n",
    "        # Critic head: 2-layer MLP (shared_hidden_size -> critic_hidden_size -> 1)\n",
    "        # critic estimates 1D value of V(s) for policy given by actor\n",
    "        self.critic_layer1 = nn.Linear(shared_hidden_size, critic_hidden_size)\n",
    "        self.critic_layer2 = nn.Linear(critic_hidden_size, 1)\n",
    "        \n",
    "        self.num_actions = num_actions\n",
    "\n",
    "        self.to(device)\n",
    "    \n",
    "    def forward(self, state):\n",
    "        \"\"\"\n",
    "        Forward pass: Takes a state and returns action probabilities and value.\n",
    "        \n",
    "        Args:\n",
    "            state (torch.Tensor): Shape [batch_size, observation_dim]\n",
    "        \n",
    "        Returns:\n",
    "            action_probs (torch.Tensor): Shape [batch_size, num_actions] (softmax probs)\n",
    "            value (torch.Tensor): Shape [batch_size, 1] (state value)\n",
    "        \"\"\"\n",
    "        state = state.to(device)\n",
    "        \n",
    "        x = self.shared_backbone(state)\n",
    "        \n",
    "        # Actor head\n",
    "        actor_x = F.relu(self.actor_layer1(x))\n",
    "        actor_logits = self.actor_layer2(actor_x)\n",
    "        action_probs = F.softmax(actor_logits, dim=-1)  # Softmax over actions\n",
    "        \n",
    "        # Critic head\n",
    "        critic_x = F.relu(self.critic_layer1(x))\n",
    "        value = self.critic_layer2(critic_x)  # No activation, raw value\n",
    "        \n",
    "        return action_probs, value\n",
    "\n",
    "    def policy(self, state, verbose=False):\n",
    "        \"\"\"\n",
    "        Sample an action from the policy given a state.\n",
    "        \n",
    "        Args:\n",
    "            state (torch.Tensor): Shape [observation_dim] or [1, observation_dim]\n",
    "        \n",
    "        Returns:\n",
    "            action (int): Sampled action\n",
    "            log_prob (torch.Tensor): Log probability of the action\n",
    "            entropy (torch.Tensor): Entropy of the action distribution\n",
    "        \"\"\"\n",
    "        # Convert NumPy array to PyTorch tensor if needed\n",
    "        if isinstance(state, np.ndarray):\n",
    "            state = torch.from_numpy(state).float()\n",
    "        \n",
    "        # Ensure state is a 2D tensor [1, observation_dim] for batch processing\n",
    "        if state.dim() == 1:\n",
    "            state = state.unsqueeze(0)\n",
    "         \n",
    "        # Get action probabilities and value\n",
    "        action_probs, _ = self.forward(state)\n",
    "        \n",
    "        # Sample action using a categorical distribution\n",
    "        dist = torch.distributions.Categorical(action_probs)\n",
    "        \n",
    "        action = dist.sample()\n",
    "        log_prob = dist.log_prob(action)\n",
    "        entropy = dist.entropy()  # entropy to incite exploration\n",
    "        if verbose:\n",
    "            print(f\"Action probs: {action_probs} Entropy: {entropy}\")\n",
    "        \n",
    "        return action.item(), log_prob, entropy\n",
    "\n",
    "#example usage\n",
    "agent = ActorCriticNetwork(\n",
    "    observation_dim=observation_dim,\n",
    "    num_actions=num_actions\n",
    ")\n",
    "\n",
    "# random state for testing\n",
    "state = torch.randn(1, observation_dim)  # Batch of 1\n",
    "action_probs, value = agent(state)\n",
    "print(\"Action probabilities:\", action_probs)  # [1, 2]\n",
    "print(\"Value estimate:\", value)               # [1, 1]\n",
    "    \n",
    "# sample an action\n",
    "action, log_prob, entropy = agent.policy(state)\n",
    "print(f\"Sampled action: {action}, Log prob: {log_prob}, entropy: {entropy}\")"
   ]
  },
  {
   "cell_type": "markdown",
   "id": "378c98b8-f0fd-4109-846a-c1d3365dce69",
   "metadata": {},
   "source": [
    "#### Try untrained agent"
   ]
  },
  {
   "cell_type": "code",
   "execution_count": 8,
   "id": "4aab895b-2c51-48c3-95a6-9d310c22e3ed",
   "metadata": {},
   "outputs": [
    {
     "name": "stderr",
     "output_type": "stream",
     "text": [
      "/Users/victormicha/PythonProjects/IP_Paris/AdvMLAutonomousAgents_EP/ActorCriticProject/actor_critic_env/lib/python3.10/site-packages/gymnasium/wrappers/rendering.py:283: UserWarning: \u001b[33mWARN: Overwriting existing videos at /Users/victormicha/PythonProjects/IP_Paris/AdvMLAutonomousAgents_EP/ActorCriticProject/videos folder (try specifying a different `video_folder` for the `RecordVideo` wrapper if this is not desired)\u001b[0m\n",
      "  logger.warn(\n"
     ]
    },
    {
     "name": "stdout",
     "output_type": "stream",
     "text": [
      "Episode ran for 11 steps\n"
     ]
    },
    {
     "data": {
      "text/html": [
       "<video controls autoplay loop  >\n",
       " <source src=\"data:video/mp4;base64,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\" type=\"video/mp4\">\n",
       " Your browser does not support the video tag.\n",
       " </video>"
      ],
      "text/plain": [
       "<IPython.core.display.Video object>"
      ]
     },
     "metadata": {},
     "output_type": "display_data"
    }
   ],
   "source": [
    "agent = ActorCriticNetwork(\n",
    "    observation_dim=observation_dim,\n",
    "    num_actions=num_actions\n",
    ")\n",
    "run_and_display_episode(agent, env_name=env_name, video_title=\"untrained_agent\")"
   ]
  },
  {
   "cell_type": "markdown",
   "id": "97bb2984-e231-4395-802b-b2c86151c685",
   "metadata": {},
   "source": [
    "#### Train the Agent"
   ]
  },
  {
   "cell_type": "code",
   "execution_count": 9,
   "id": "1b563454-8443-471e-95a6-8fcc733320de",
   "metadata": {},
   "outputs": [],
   "source": [
    "def train_actor_critic_with_traces(\n",
    "    agent,                # Pre-initialized ActorCriticNetwork\n",
    "    env_name=\"CartPole-v1\",\n",
    "    num_episodes=1000,    # Number of episodes to train\n",
    "    gamma=0.99,           # Discount factor\n",
    "    lambda_theta=0.9,     # Trace-decay rate for actor\n",
    "    lambda_w=0.9,         # Trace-decay rate for critic\n",
    "    alpha_theta=0.001,    # Learning rate for actor\n",
    "    alpha_w=0.001,        # Learning rate for critic\n",
    "    entropy_beta=0.01     # entropy weight\n",
    "    # a higher entropy beta penalize distributions with low entropy like 0 1 or 1 0, which make agent always pick same choice\n",
    "):\n",
    "\n",
    "\n",
    "    assert lambda_theta<1 and lambda_theta>0\n",
    "    assert lambda_w<1 and lambda_w>0\n",
    "    \n",
    "    env = gym.make(env_name)\n",
    "    \n",
    "    actor_params = list(agent.actor_layer1.parameters()) + list(agent.actor_layer2.parameters())\n",
    "    critic_params = list(agent.critic_layer1.parameters()) + list(agent.critic_layer2.parameters())\n",
    "    shared_params = list(agent.shared_backbone.parameters())\n",
    "    \n",
    "    optimizer_theta = optim.Adam(actor_params + shared_params, lr=alpha_theta)\n",
    "    optimizer_w = optim.Adam(critic_params + shared_params, lr=alpha_w)\n",
    "    \n",
    "    episode_rewards = []\n",
    "    \n",
    "    for episode in range(num_episodes):\n",
    "        state, _ = env.reset()\n",
    "        z_theta = [torch.zeros_like(p, device=device) for p in (actor_params + shared_params)]\n",
    "        z_w = [torch.zeros_like(p, device=device) for p in (critic_params + shared_params)]\n",
    "        I = 1.0\n",
    "        total_reward = 0\n",
    "        done = False\n",
    "        step = 0\n",
    "        \n",
    "        while not done:\n",
    "            action, log_prob, entropy = agent.policy(state, verbose=episode==0 or episode==num_episodes-1)\n",
    "            next_state, reward, terminated, truncated, info = env.step(action)\n",
    "            done = terminated or truncated\n",
    "            total_reward += reward\n",
    "            \n",
    "            state_tensor = torch.from_numpy(state).float().unsqueeze(0).to(device)\n",
    "            next_state_tensor = torch.from_numpy(next_state).float().unsqueeze(0).to(device)\n",
    "            _, value = agent(state_tensor)\n",
    "            _, next_value = agent(next_state_tensor)\n",
    "            if done:\n",
    "                next_value = torch.zeros_like(next_value, device=device)\n",
    "            delta = reward + gamma * next_value - value\n",
    "            delta = delta.squeeze(0)\n",
    "            delta_item = delta.item()\n",
    "            \n",
    "            # Compute losses\n",
    "            value_loss = delta.pow(2)\n",
    "            actor_loss = -log_prob * delta.detach() - entropy_beta * entropy\n",
    "            \n",
    "            # Compute gradients without updating parameters yet\n",
    "            optimizer_w.zero_grad()\n",
    "            value_loss.backward(retain_graph=True)  # Retain graph for actor\n",
    "            critic_grads = [param.grad.clone() if param.grad is not None else torch.zeros_like(param, device=device) \n",
    "                          for param in (critic_params + shared_params)]\n",
    "            \n",
    "            optimizer_theta.zero_grad()\n",
    "            actor_loss.backward()\n",
    "            actor_grads = [param.grad.clone() if param.grad is not None else torch.zeros_like(param, device=device) \n",
    "                         for param in (actor_params + shared_params)]\n",
    "            \n",
    "            # Update eligibility traces\n",
    "            for i, (param, grad) in enumerate(zip(critic_params + shared_params, critic_grads)):\n",
    "                z_w[i] = gamma * lambda_w * z_w[i] + grad\n",
    "                param.grad = z_w[i] * delta_item\n",
    "            \n",
    "            for i, (param, grad) in enumerate(zip(actor_params + shared_params, actor_grads)):\n",
    "                z_theta[i] = gamma * lambda_theta * z_theta[i] + I * grad\n",
    "                param.grad = z_theta[i] * delta_item\n",
    "\n",
    "            if episode==0 or episode==num_episodes-1:\n",
    "                print(f\"Value Loss: {value_loss.item()}, Actor Loss: {actor_loss.item()}\")\n",
    "            \n",
    "            # Apply updates after both backward passes\n",
    "            optimizer_w.step()\n",
    "            optimizer_theta.step()\n",
    "            \n",
    "            I = gamma * I\n",
    "            state = next_state\n",
    "            step += 1\n",
    "        \n",
    "        episode_rewards.append(total_reward)\n",
    "        if episode % 10 == 0:\n",
    "            avg_reward = np.mean(episode_rewards[-10:]) if episode >= 10 else total_reward\n",
    "            print(f\"Episode {episode}, Total Reward: {total_reward}, Avg Reward (last 10): {avg_reward:.2f}\")\n",
    "    \n",
    "    env.close()\n",
    "    return episode_rewards"
   ]
  },
  {
   "cell_type": "code",
   "execution_count": 10,
   "id": "9ae88049-ccb2-4615-8a04-467087287b3e",
   "metadata": {},
   "outputs": [
    {
     "name": "stdout",
     "output_type": "stream",
     "text": [
      "mps\n",
      "Action probs: tensor([[0.5411, 0.4589]], device='mps:0', grad_fn=<SoftmaxBackward0>) Entropy: tensor([0.6898], device='mps:0', grad_fn=<NegBackward0>)\n",
      "Value Loss: 0.9490308165550232, Actor Loss: 0.6898273825645447\n",
      "Action probs: tensor([[0.5375, 0.4625]], device='mps:0', grad_fn=<SoftmaxBackward0>) Entropy: tensor([0.6903], device='mps:0', grad_fn=<NegBackward0>)\n",
      "Value Loss: 0.941443681716919, Actor Loss: 0.5333731174468994\n",
      "Action probs: tensor([[0.5373, 0.4627]], device='mps:0', grad_fn=<SoftmaxBackward0>) Entropy: tensor([0.6904], device='mps:0', grad_fn=<NegBackward0>)\n",
      "Value Loss: 0.9474039077758789, Actor Loss: 0.6810736060142517\n",
      "Action probs: tensor([[0.5346, 0.4654]], device='mps:0', grad_fn=<SoftmaxBackward0>) Entropy: tensor([0.6908], device='mps:0', grad_fn=<NegBackward0>)\n",
      "Value Loss: 0.9487483501434326, Actor Loss: 0.6759324073791504\n",
      "Action probs: tensor([[0.5321, 0.4679]], device='mps:0', grad_fn=<SoftmaxBackward0>) Entropy: tensor([0.6911], device='mps:0', grad_fn=<NegBackward0>)\n",
      "Value Loss: 0.9377330541610718, Actor Loss: 0.541875958442688\n",
      "Action probs: tensor([[0.5309, 0.4691]], device='mps:0', grad_fn=<SoftmaxBackward0>) Entropy: tensor([0.6912], device='mps:0', grad_fn=<NegBackward0>)\n",
      "Value Loss: 0.9396679997444153, Actor Loss: 0.5445854663848877\n",
      "Action probs: tensor([[0.5305, 0.4695]], device='mps:0', grad_fn=<SoftmaxBackward0>) Entropy: tensor([0.6913], device='mps:0', grad_fn=<NegBackward0>)\n",
      "Value Loss: 0.9427509903907776, Actor Loss: 0.5464578866958618\n",
      "Action probs: tensor([[0.5304, 0.4696]], device='mps:0', grad_fn=<SoftmaxBackward0>) Entropy: tensor([0.6913], device='mps:0', grad_fn=<NegBackward0>)\n",
      "Value Loss: 0.9357807636260986, Actor Loss: 0.5443655252456665\n",
      "Action probs: tensor([[0.5298, 0.4702]], device='mps:0', grad_fn=<SoftmaxBackward0>) Entropy: tensor([0.6914], device='mps:0', grad_fn=<NegBackward0>)\n",
      "Value Loss: 0.9448970556259155, Actor Loss: 0.6643416881561279\n",
      "Action probs: tensor([[0.5305, 0.4695]], device='mps:0', grad_fn=<SoftmaxBackward0>) Entropy: tensor([0.6913], device='mps:0', grad_fn=<NegBackward0>)\n",
      "Value Loss: 0.9387331604957581, Actor Loss: 0.6634186506271362\n",
      "Action probs: tensor([[0.5300, 0.4700]], device='mps:0', grad_fn=<SoftmaxBackward0>) Entropy: tensor([0.6913], device='mps:0', grad_fn=<NegBackward0>)\n",
      "Value Loss: 0.9383174180984497, Actor Loss: 0.6621959805488586\n",
      "Action probs: tensor([[0.5302, 0.4698]], device='mps:0', grad_fn=<SoftmaxBackward0>) Entropy: tensor([0.6913], device='mps:0', grad_fn=<NegBackward0>)\n",
      "Value Loss: 0.9371548891067505, Actor Loss: 0.6621509194374084\n",
      "Action probs: tensor([[0.5314, 0.4686]], device='mps:0', grad_fn=<SoftmaxBackward0>) Entropy: tensor([0.6912], device='mps:0', grad_fn=<NegBackward0>)\n",
      "Value Loss: 0.9341342449188232, Actor Loss: 0.6634573340415955\n",
      "Action probs: tensor([[0.5331, 0.4669]], device='mps:0', grad_fn=<SoftmaxBackward0>) Entropy: tensor([0.6909], device='mps:0', grad_fn=<NegBackward0>)\n",
      "Value Loss: 0.9427222609519958, Actor Loss: 0.5415873527526855\n",
      "Action probs: tensor([[0.5303, 0.4697]], device='mps:0', grad_fn=<SoftmaxBackward0>) Entropy: tensor([0.6913], device='mps:0', grad_fn=<NegBackward0>)\n",
      "Value Loss: 0.9337024092674255, Actor Loss: 0.6609814167022705\n",
      "Action probs: tensor([[0.5318, 0.4682]], device='mps:0', grad_fn=<SoftmaxBackward0>) Entropy: tensor([0.6911], device='mps:0', grad_fn=<NegBackward0>)\n",
      "Value Loss: 0.9402507543563843, Actor Loss: 0.6668236255645752\n",
      "Action probs: tensor([[0.5326, 0.4674]], device='mps:0', grad_fn=<SoftmaxBackward0>) Entropy: tensor([0.6910], device='mps:0', grad_fn=<NegBackward0>)\n",
      "Value Loss: 0.45644426345825195, Actor Loss: 0.35654836893081665\n",
      "Episode 0, Total Reward: 17.0, Avg Reward (last 10): 17.00\n",
      "Episode 10, Total Reward: 12.0, Avg Reward (last 10): 20.40\n",
      "Episode 20, Total Reward: 30.0, Avg Reward (last 10): 16.90\n",
      "Episode 30, Total Reward: 17.0, Avg Reward (last 10): 16.80\n",
      "Episode 40, Total Reward: 16.0, Avg Reward (last 10): 20.50\n",
      "Episode 50, Total Reward: 13.0, Avg Reward (last 10): 23.50\n",
      "Episode 60, Total Reward: 25.0, Avg Reward (last 10): 16.40\n",
      "Episode 70, Total Reward: 16.0, Avg Reward (last 10): 15.70\n",
      "Episode 80, Total Reward: 15.0, Avg Reward (last 10): 19.70\n",
      "Episode 90, Total Reward: 9.0, Avg Reward (last 10): 21.10\n",
      "Episode 100, Total Reward: 49.0, Avg Reward (last 10): 31.30\n",
      "Episode 110, Total Reward: 26.0, Avg Reward (last 10): 26.00\n",
      "Episode 120, Total Reward: 10.0, Avg Reward (last 10): 14.90\n",
      "Episode 130, Total Reward: 10.0, Avg Reward (last 10): 10.20\n",
      "Episode 140, Total Reward: 9.0, Avg Reward (last 10): 9.20\n",
      "Episode 150, Total Reward: 10.0, Avg Reward (last 10): 9.20\n",
      "Episode 160, Total Reward: 8.0, Avg Reward (last 10): 9.20\n",
      "Episode 170, Total Reward: 10.0, Avg Reward (last 10): 9.30\n",
      "Episode 180, Total Reward: 9.0, Avg Reward (last 10): 9.10\n",
      "Episode 190, Total Reward: 9.0, Avg Reward (last 10): 9.20\n",
      "Episode 200, Total Reward: 10.0, Avg Reward (last 10): 9.40\n",
      "Episode 210, Total Reward: 8.0, Avg Reward (last 10): 9.20\n",
      "Episode 220, Total Reward: 10.0, Avg Reward (last 10): 9.40\n",
      "Episode 230, Total Reward: 8.0, Avg Reward (last 10): 9.30\n",
      "Episode 240, Total Reward: 9.0, Avg Reward (last 10): 9.60\n",
      "Episode 250, Total Reward: 8.0, Avg Reward (last 10): 9.30\n",
      "Episode 260, Total Reward: 10.0, Avg Reward (last 10): 9.20\n",
      "Episode 270, Total Reward: 10.0, Avg Reward (last 10): 9.80\n",
      "Episode 280, Total Reward: 10.0, Avg Reward (last 10): 9.30\n",
      "Episode 290, Total Reward: 9.0, Avg Reward (last 10): 9.20\n",
      "Episode 300, Total Reward: 8.0, Avg Reward (last 10): 9.30\n",
      "Episode 310, Total Reward: 10.0, Avg Reward (last 10): 9.20\n",
      "Episode 320, Total Reward: 9.0, Avg Reward (last 10): 9.50\n",
      "Episode 330, Total Reward: 9.0, Avg Reward (last 10): 9.40\n",
      "Episode 340, Total Reward: 9.0, Avg Reward (last 10): 9.00\n",
      "Episode 350, Total Reward: 9.0, Avg Reward (last 10): 9.50\n",
      "Episode 360, Total Reward: 9.0, Avg Reward (last 10): 9.50\n",
      "Episode 370, Total Reward: 10.0, Avg Reward (last 10): 9.20\n",
      "Episode 380, Total Reward: 8.0, Avg Reward (last 10): 9.20\n",
      "Episode 390, Total Reward: 9.0, Avg Reward (last 10): 9.00\n",
      "Episode 400, Total Reward: 8.0, Avg Reward (last 10): 8.80\n",
      "Episode 410, Total Reward: 10.0, Avg Reward (last 10): 9.30\n",
      "Episode 420, Total Reward: 10.0, Avg Reward (last 10): 9.70\n",
      "Episode 430, Total Reward: 10.0, Avg Reward (last 10): 9.40\n",
      "Episode 440, Total Reward: 10.0, Avg Reward (last 10): 9.30\n",
      "Episode 450, Total Reward: 10.0, Avg Reward (last 10): 9.30\n",
      "Episode 460, Total Reward: 9.0, Avg Reward (last 10): 9.40\n",
      "Episode 470, Total Reward: 9.0, Avg Reward (last 10): 9.20\n",
      "Episode 480, Total Reward: 8.0, Avg Reward (last 10): 9.30\n",
      "Episode 490, Total Reward: 9.0, Avg Reward (last 10): 9.10\n",
      "Action probs: tensor([[1.0000e+00, 2.4161e-08]], device='mps:0', grad_fn=<SoftmaxBackward0>) Entropy: tensor([5.0440e-07], device='mps:0', grad_fn=<NegBackward0>)\n",
      "Value Loss: 2488.58740234375, Actor Loss: -5.997284461045638e-06\n",
      "Action probs: tensor([[1.0000e+00, 5.1909e-08]], device='mps:0', grad_fn=<SoftmaxBackward0>) Entropy: tensor([9.4676e-07], device='mps:0', grad_fn=<NegBackward0>)\n",
      "Value Loss: 1815.4027099609375, Actor Loss: -5.173891622689553e-06\n",
      "Action probs: tensor([[1.0000e+00, 8.0980e-08]], device='mps:0', grad_fn=<SoftmaxBackward0>) Entropy: tensor([1.4102e-06], device='mps:0', grad_fn=<NegBackward0>)\n",
      "Value Loss: 1156.6226806640625, Actor Loss: -4.195229394099442e-06\n",
      "Action probs: tensor([[1.0000e+00, 8.1339e-08]], device='mps:0', grad_fn=<SoftmaxBackward0>) Entropy: tensor([1.4159e-06], device='mps:0', grad_fn=<NegBackward0>)\n",
      "Value Loss: 1153.4095458984375, Actor Loss: -4.190166691842023e-06\n",
      "Action probs: tensor([[1.0000e+00, 8.1439e-08]], device='mps:0', grad_fn=<SoftmaxBackward0>) Entropy: tensor([1.4175e-06], device='mps:0', grad_fn=<NegBackward0>)\n",
      "Value Loss: 1155.6492919921875, Actor Loss: -4.1942553252738435e-06\n",
      "Action probs: tensor([[1.0000e+00, 8.1610e-08]], device='mps:0', grad_fn=<SoftmaxBackward0>) Entropy: tensor([1.4203e-06], device='mps:0', grad_fn=<NegBackward0>)\n",
      "Value Loss: 832.25244140625, Actor Loss: -3.581070359359728e-06\n",
      "Action probs: tensor([[1.0000e+00, 8.8348e-08]], device='mps:0', grad_fn=<SoftmaxBackward0>) Entropy: tensor([1.5277e-06], device='mps:0', grad_fn=<NegBackward0>)\n",
      "Value Loss: 703.4716796875, Actor Loss: -3.3145624911412597e-06\n",
      "Action probs: tensor([[1.0000e+00, 9.9223e-08]], device='mps:0', grad_fn=<SoftmaxBackward0>) Entropy: tensor([1.7011e-06], device='mps:0', grad_fn=<NegBackward0>)\n",
      "Value Loss: 605.1527709960938, Actor Loss: -3.102638174823369e-06\n",
      "Action probs: tensor([[1.0000e+00, 9.3207e-08]], device='mps:0', grad_fn=<SoftmaxBackward0>) Entropy: tensor([1.6052e-06], device='mps:0', grad_fn=<NegBackward0>)\n",
      "Value Loss: 142923.0625, Actor Loss: -4.5227789087221026e-05\n"
     ]
    },
    {
     "data": {
      "image/png": "[encoded data removed]",
      "text/plain": [
       "<Figure size 640x480 with 1 Axes>"
      ]
     },
     "metadata": {},
     "output_type": "display_data"
    }
   ],
   "source": [
    "# Initialize agent\n",
    "agent = ActorCriticNetwork(\n",
    "    observation_dim=observation_dim,\n",
    "    num_actions=num_actions,\n",
    "    shared_hidden_size=16,\n",
    "    actor_hidden_size=8,\n",
    "    critic_hidden_size=8\n",
    ")\n",
    "\n",
    "print(device)\n",
    "# Train the agent\n",
    "rewards = train_actor_critic_with_traces(\n",
    "    agent=agent,\n",
    "    env_name=env_name,\n",
    "    num_episodes=500,#1000\n",
    "    gamma=0.9,\n",
    "    lambda_theta=0.7,# in (0,1)\n",
    "    lambda_w=0.7,# in (0,1)\n",
    "    alpha_theta=0.001,\n",
    "    alpha_w=0.001,\n",
    "    entropy_beta=0.1 # 0.1\n",
    ")\n",
    "    \n",
    "# Plot rewards\n",
    "    \n",
    "plt.plot(rewards)\n",
    "plt.xlabel(\"Episode\")\n",
    "plt.ylabel(\"Total Reward\")\n",
    "plt.title(\"Training Progress\")\n",
    "plt.show()"
   ]
  },
  {
   "cell_type": "markdown",
   "id": "53ddca57-47aa-4004-beda-43bf90445dce",
   "metadata": {},
   "source": [
    "#### Try Trained Agent"
   ]
  },
  {
   "cell_type": "code",
   "execution_count": 11,
   "id": "94c62973-609d-4f2e-9078-f2dc31c370d1",
   "metadata": {},
   "outputs": [
    {
     "name": "stderr",
     "output_type": "stream",
     "text": [
      "/Users/victormicha/PythonProjects/IP_Paris/AdvMLAutonomousAgents_EP/ActorCriticProject/actor_critic_env/lib/python3.10/site-packages/gymnasium/wrappers/rendering.py:283: UserWarning: \u001b[33mWARN: Overwriting existing videos at /Users/victormicha/PythonProjects/IP_Paris/AdvMLAutonomousAgents_EP/ActorCriticProject/videos folder (try specifying a different `video_folder` for the `RecordVideo` wrapper if this is not desired)\u001b[0m\n",
      "  logger.warn(\n"
     ]
    },
    {
     "name": "stdout",
     "output_type": "stream",
     "text": [
      "Episode ran for 10 steps\n"
     ]
    },
    {
     "data": {
      "text/html": [
       "<video controls autoplay loop  >\n",
       " <source src=\"data:video/mp4;base64,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\" type=\"video/mp4\">\n",
       " Your browser does not support the video tag.\n",
       " </video>"
      ],
      "text/plain": [
       "<IPython.core.display.Video object>"
      ]
     },
     "metadata": {},
     "output_type": "display_data"
    }
   ],
   "source": [
    "run_and_display_episode(agent, env_name=env_name, video_title=\"trained_agent\")"
   ]
  },
  {
   "cell_type": "markdown",
   "id": "3c43a57e-c600-45ac-b027-4872a91b8b4f",
   "metadata": {},
   "source": [
    "# NOTES"
   ]
  },
  {
   "cell_type": "code",
   "execution_count": 12,
   "id": "8b7476d0-3a48-47f0-906f-3fecffdbc3cd",
   "metadata": {},
   "outputs": [],
   "source": [
    "# TODO, DEBUG THE TRAIN FIUNCTION, NEED TO MAKE SURE PSEUDOCODE IS WELL FOLLOWED + THE SHAPES MUST MATCH\n",
    "# COULD ADD COMMENTS TO EACH LINE OF CODE WITHT THE CORREESPONDING LINE OF PSEUDOCODE\n",
    "# COULD TEST THE POLICY IN THE TRAINING LOOP FOR A FEW EPISODES, USING MODELTRAIN AND EVAL OF COURSE AND KEEPING TRACK OF THE AVG RETURN PER EPISODE (LIKE IN LAB6)"
   ]
  },
  {
   "cell_type": "code",
   "execution_count": 13,
   "id": "7d6ebe50-539a-4c0c-99e4-4c7bdc040e2d",
   "metadata": {},
   "outputs": [
    {
     "data": {
      "text/plain": [
       "'\\nLOSSES:\\noptimizing π(A∣S,θ)\\n to maximize future rewards, guided by δ\\n Actor: Updates π using δ as a signal of action quality, plus entropy for exploration.\\n\\n\\n\\nThe critic’s job is to approximate the true value function Vπ(s)\\n. The TD error δ\\n is the difference between the \"expected\" value (based on reward and next state) and the \"actual\" value.\\nvalue_loss = delta.pow(2)  # δ²\\nMinimizing δ2\\n adjusts www\\n to make v^(S,w)\\n closer to r+γv^(S′,w), consistent with supervised regression\\n\\n\\nactor_loss = -log_prob * delta.detach() - entropy_beta * entropy\\nThis isn’t a \"loss\" in the supervised sense (expected - actual), but an objective to maximize:\\nPolicy Gradient Term: -log_prob * delta approximates −∇θJ(θ), where J(θ)J is the expected cumulative reward. \\nPositive δ: Action was better than expected → increase π(A∣S,θ)\\\\pi(A|S, \\theta)\\\\pi(A|S, \\theta)\\n (reduce -log_prob).\\n\\nNegative δ: Action was worse → decrease π(A∣S,θ) (increase -log_prob).\\nWe negate it because optimizers minimize loss, but we want to maximize reward.\\n\\nEntropy Term: -entropy_beta * entropy encourages exploration.\\nLow entropy (e.g., [1, 0]) → small negative term → higher loss → penalizes determinism.\\nHigh entropy (e.g., [0.5, 0.5]) → larger negative term → lower loss → encourages diversity.\\n\\n\\n\\n'"
      ]
     },
     "execution_count": 13,
     "metadata": {},
     "output_type": "execute_result"
    }
   ],
   "source": [
    "# to fix problem of action probs shifting to 1, 0 or 0,1 for all states (so only 1 action is sampled), we need a counterforce to encourage exploration\n",
    "# Without a counterforce, this becomes a feedback loop: the favored action gets reinforced, probabilities skew further, and exploration dies.\n",
    "#Entropy Term: -beta * entropy penalizes low-entropy distributions (like [1.0, 0.0]), pushing action_probs toward a more balanced spread (e.g., [0.7, 0.3]).\n",
    "\n",
    "#Exploration: Forces the agent to try both actions, allowing it to discover better policies (e.g., balancing the pole by alternating left and right).\n",
    "\n",
    "\"\"\"\n",
    "LOSSES:\n",
    "optimizing π(A∣S,θ)\n",
    " to maximize future rewards, guided by δ\n",
    " Actor: Updates π using δ as a signal of action quality, plus entropy for exploration.\n",
    "\n",
    "\n",
    "\n",
    "The critic’s job is to approximate the true value function Vπ(s)\n",
    ". The TD error δ\n",
    " is the difference between the \"expected\" value (based on reward and next state) and the \"actual\" value.\n",
    "value_loss = delta.pow(2)  # δ²\n",
    "Minimizing δ2\n",
    " adjusts www\n",
    " to make v^(S,w)\n",
    " closer to r+γv^(S′,w), consistent with supervised regression\n",
    "\n",
    "\n",
    "actor_loss = -log_prob * delta.detach() - entropy_beta * entropy\n",
    "This isn’t a \"loss\" in the supervised sense (expected - actual), but an objective to maximize:\n",
    "Policy Gradient Term: -log_prob * delta approximates −∇θJ(θ), where J(θ)J is the expected cumulative reward. \n",
    "Positive δ: Action was better than expected → increase π(A∣S,θ)\\pi(A|S, \\theta)\\pi(A|S, \\theta)\n",
    " (reduce -log_prob).\n",
    "\n",
    "Negative δ: Action was worse → decrease π(A∣S,θ) (increase -log_prob).\n",
    "We negate it because optimizers minimize loss, but we want to maximize reward.\n",
    "\n",
    "Entropy Term: -entropy_beta * entropy encourages exploration.\n",
    "Low entropy (e.g., [1, 0]) → small negative term → higher loss → penalizes determinism.\n",
    "High entropy (e.g., [0.5, 0.5]) → larger negative term → lower loss → encourages diversity.\n",
    "\n",
    "\n",
    "\n",
    "\"\"\""
   ]
  },
  {
   "cell_type": "code",
   "execution_count": null,
   "id": "44342d37-a8fc-4aa9-ae5a-3be017b75291",
   "metadata": {},
   "outputs": [],
   "source": []
  }
 ],
 "metadata": {
  "kernelspec": {
   "display_name": "Actor Critic Env",
   "language": "python",
   "name": "actor_critic_env"
  },
  "language_info": {
   "codemirror_mode": {
    "name": "ipython",
    "version": 3
   },
   "file_extension": ".py",
   "mimetype": "text/x-python",
   "name": "python",
   "nbconvert_exporter": "python",
   "pygments_lexer": "ipython3",
   "version": "3.10.16"
  }
 },
 "nbformat": 4,
 "nbformat_minor": 5
}
